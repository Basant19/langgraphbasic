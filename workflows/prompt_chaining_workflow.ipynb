{
 "cells": [
  {
   "cell_type": "code",
   "execution_count": 15,
   "id": "f55f563c",
   "metadata": {},
   "outputs": [
    {
     "data": {
      "text/plain": [
       "'\\nIn this workflow workflow interact or call llm many times \\n'"
      ]
     },
     "execution_count": 15,
     "metadata": {},
     "output_type": "execute_result"
    }
   ],
   "source": [
    "'''\n",
    "In this workflow workflow interact or call llm many times \n",
    "'''"
   ]
  },
  {
   "cell_type": "code",
   "execution_count": 16,
   "id": "553420cb",
   "metadata": {},
   "outputs": [],
   "source": [
    "from typing_extensions import TypedDict\n",
    "\n",
    "from langgraph.graph import StateGraph,START,END"
   ]
  },
  {
   "cell_type": "code",
   "execution_count": 17,
   "id": "2d852c7b",
   "metadata": {},
   "outputs": [
    {
     "data": {
      "text/plain": [
       "True"
      ]
     },
     "execution_count": 17,
     "metadata": {},
     "output_type": "execute_result"
    }
   ],
   "source": [
    "import os\n",
    "from dotenv import load_dotenv\n",
    "load_dotenv()"
   ]
  },
  {
   "cell_type": "code",
   "execution_count": 18,
   "id": "bad99f5d",
   "metadata": {},
   "outputs": [],
   "source": [
    "groq_api_key = os.getenv(\"GROQ_API_KEY\")"
   ]
  },
  {
   "cell_type": "code",
   "execution_count": 19,
   "id": "6f28b9de",
   "metadata": {},
   "outputs": [],
   "source": [
    "from langchain_groq import ChatGroq\n",
    "\n",
    "\n",
    "# Initialize the model\n",
    "llm = ChatGroq(\n",
    "    groq_api_key=groq_api_key,\n",
    "    model_name=\"llama3-8b-8192\",\n",
    "    temperature=0.7,\n",
    ")"
   ]
  },
  {
   "cell_type": "code",
   "execution_count": 20,
   "id": "867e4536",
   "metadata": {},
   "outputs": [],
   "source": [
    "class BlogState(TypedDict):\n",
    "\n",
    "    title: str\n",
    "    outline: str\n",
    "    content: str"
   ]
  },
  {
   "cell_type": "code",
   "execution_count": 21,
   "id": "7d139719",
   "metadata": {},
   "outputs": [],
   "source": [
    "def create_outline(state: BlogState) -> BlogState:\n",
    "\n",
    "    # fetch title\n",
    "    title = state['title']\n",
    "\n",
    "    # call llm gen outline\n",
    "    prompt = f'Generate a detailed outline for a blog on the topic - {title}'\n",
    "    outline = llm.invoke(prompt).content\n",
    "\n",
    "    # update state\n",
    "    state['outline'] = outline\n",
    "\n",
    "    return state"
   ]
  },
  {
   "cell_type": "code",
   "execution_count": 22,
   "id": "94cbdd25",
   "metadata": {},
   "outputs": [],
   "source": [
    "def create_blog(state: BlogState) -> BlogState:\n",
    "\n",
    "    title = state['title']\n",
    "    outline = state['outline']\n",
    "\n",
    "    prompt = f'Write a detailed blog on the title - {title} using the follwing outline \\n {outline}'\n",
    "\n",
    "    content = llm.invoke(prompt).content\n",
    "\n",
    "    state['content'] = content\n",
    "\n",
    "    return state"
   ]
  },
  {
   "cell_type": "code",
   "execution_count": 23,
   "id": "6b89cd03",
   "metadata": {},
   "outputs": [],
   "source": [
    "graph = StateGraph(BlogState)\n",
    "\n",
    "# nodes\n",
    "graph.add_node('create_outline', create_outline)\n",
    "graph.add_node('create_blog', create_blog)\n",
    "\n",
    "# edges\n",
    "graph.add_edge(START, 'create_outline')\n",
    "graph.add_edge('create_outline', 'create_blog')\n",
    "graph.add_edge('create_blog', END)\n",
    "\n",
    "workflow = graph.compile()\n"
   ]
  },
  {
   "cell_type": "code",
   "execution_count": 25,
   "id": "99c19085",
   "metadata": {},
   "outputs": [
    {
     "name": "stdout",
     "output_type": "stream",
     "text": [
      "{'title': 'Jharkhand tribe culture and identity in danger', 'outline': 'Here is a detailed outline for a blog on the topic \"Jharkhand Tribe Culture and Identity in Danger\":\\n\\n**Title:** Jharkhand Tribe Culture and Identity in Danger: A Threatening Reality\\n\\n**I. Introduction**\\n\\n* Brief overview of Jharkhand state and its rich tribal heritage\\n* Importance of preserving tribal culture and identity\\n* Thesis statement: Jharkhand\\'s tribal culture and identity are under threat due to various factors, and it is crucial to address this issue to preserve the state\\'s unique cultural heritage.\\n\\n**II. The Tribal Population of Jharkhand**\\n\\n* Demographic statistics of Jharkhand\\'s tribal population\\n* Diversity of tribes in Jharkhand (e.g., Santhal, Munda, Oraon, Kol)\\n* Historical significance of tribes in Jharkhand\\'s social and cultural landscape\\n\\n**III. Threats to Tribal Culture and Identity**\\n\\n* Urbanization and modernization: impact on traditional ways of life\\n* Industrialization and mining: displacement of tribes and destruction of their habitats\\n* Education and assimilation: impact on tribal language and customs\\n* Government policies: lack of representation and empowerment of tribal communities\\n* External influences: impact of globalization and consumerism on tribal culture\\n\\n**IV. The Impact of External Influences**\\n\\n* Examples of external influences affecting tribal culture (e.g., Bollywood, urban pop culture)\\n* How external influences are eroding traditional practices and customs\\n* The role of social media in spreading external influences\\n\\n**V. The Role of Government and Institutions**\\n\\n* Lack of representation and empowerment of tribal communities in government and institutions\\n* Need for affirmative action and policies to protect tribal culture and identity\\n* Examples of successful government initiatives and institutions working to preserve tribal culture\\n\\n**VI. Community Efforts to Preserve Tribal Culture**\\n\\n* Examples of community-led initiatives to preserve tribal culture (e.g., language classes, cultural festivals, traditional skill preservation)\\n* The importance of community engagement and participation in preserving tribal culture\\n* Success stories of community efforts to preserve tribal culture\\n\\n**VII. Conclusion**\\n\\n* Summary of the threats to Jharkhand\\'s tribal culture and identity\\n* Urgency of addressing these threats to preserve the state\\'s unique cultural heritage\\n* Call to action: role of individuals, government, and institutions in protecting and preserving tribal culture and identity.\\n\\n**Additional ideas to consider:**\\n\\n* Include interviews or quotes from tribal community members, cultural experts, or government officials to add depth and perspective to the article.\\n* Use vivid imagery and descriptive language to bring the culture and traditions of Jharkhand\\'s tribes to life.\\n* Highlight successful initiatives or programs that are working to preserve tribal culture and identity, and discuss ways in which these can be scaled up or replicated.\\n* Consider including images, videos, or audio recordings of traditional tribal practices, music, or dance to illustrate the post.\\n\\nI hope this outline helps you write a compelling and informative blog on the topic!', 'content': \"**Jharkhand Tribe Culture and Identity in Danger: A Threatening Reality**\\n\\nJharkhand, a state nestled in the eastern part of India, is home to a rich and diverse tribal heritage. For centuries, the tribes of Jharkhand have preserved their unique cultural identity, shaped by their traditional practices, customs, and languages. However, this cultural treasure is under threat due to various factors, including urbanization, industrialization, education, government policies, and external influences. It is crucial to address these threats to preserve the state's unique cultural heritage and the identity of its tribal communities.\\n\\n**The Tribal Population of Jharkhand**\\n\\nJharkhand is home to over 30 million people, with a significant proportion being tribal communities. The state has a diverse tribal population, comprising 32% of the total population. The Santhal, Munda, Oraon, and Kol tribes are some of the most prominent communities in Jharkhand. These tribes have a distinct culture, language, and way of life that is deeply rooted in their traditional practices and customs.\\n\\n**Threats to Tribal Culture and Identity**\\n\\nUrbanization and modernization have significantly impacted the traditional ways of life of Jharkhand's tribes. Many young people are leaving their rural homes to seek better opportunities in cities, leading to a decline in traditional practices and customs. Industrialization and mining have led to the displacement of tribes and the destruction of their habitats, forcing them to adapt to new environments and lifestyles.\\n\\nEducation and assimilation have also played a significant role in eroding tribal culture and identity. Tribal children are often forced to abandon their traditional languages and customs to adapt to mainstream education and culture. Government policies have also failed to recognize and empower tribal communities, leading to a lack of representation and participation in decision-making processes.\\n\\nExternal influences, such as globalization and consumerism, have also had a profound impact on tribal culture. The proliferation of social media and Bollywood have spread external influences, eroding traditional practices and customs. The loss of traditional skills and knowledge is also a significant concern, as young generations are not being trained in traditional practices such as farming, hunting, and craft-making.\\n\\n**The Impact of External Influences**\\n\\nExternal influences have had a profound impact on tribal culture, leading to the erosion of traditional practices and customs. For example, the spread of Bollywood music and dance has led to the decline of traditional tribal music and dance forms. The proliferation of social media has also created a sense of disconnection among tribal communities, as young people are more likely to engage with external influences than with their own cultural heritage.\\n\\n**The Role of Government and Institutions**\\n\\nThe government has a significant role to play in protecting and preserving tribal culture and identity. However, government policies and institutions have often failed to recognize and empower tribal communities. There is a need for affirmative action and policies to protect tribal culture and identity, including the establishment of institutions and programs that promote tribal culture and language.\\n\\n**Community Efforts to Preserve Tribal Culture**\\n\\nCommunity-led initiatives have played a crucial role in preserving tribal culture and identity. For example, language classes and cultural festivals have been organized to promote tribal languages and customs. Traditional skill preservation programs have also been established to ensure that young generations are trained in traditional practices such as farming, hunting, and craft-making.\\n\\n**Conclusion**\\n\\nJharkhand's tribal culture and identity are under threat due to various factors, including urbanization, industrialization, education, government policies, and external influences. It is crucial to address these threats to preserve the state's unique cultural heritage and the identity of its tribal communities. Individuals, government, and institutions must work together to protect and preserve tribal culture and identity. By promoting tribal culture and language, preserving traditional skills and knowledge, and empowering tribal communities, we can ensure the survival of Jharkhand's rich tribal heritage.\\n\\n**Additional Ideas to Consider:**\\n\\n* Include interviews or quotes from tribal community members, cultural experts, or government officials to add depth and perspective to the article.\\n* Use vivid imagery and descriptive language to bring the culture and traditions of Jharkhand's tribes to life.\\n* Highlight successful initiatives or programs that are working to preserve tribal culture and identity, and discuss ways in which these can be scaled up or replicated.\\n* Consider including images, videos, or audio recordings of traditional tribal practices, music, or dance to illustrate the post.\\n\\nBy working together, we can preserve the rich cultural heritage of Jharkhand's tribes and ensure their identity and traditions are protected for generations to come.\"}\n"
     ]
    }
   ],
   "source": [
    "intial_state = {'title': 'Jharkhand tribe culture and identity in danger'}\n",
    "\n",
    "final_state = workflow.invoke(intial_state)\n",
    "\n",
    "print(final_state)"
   ]
  },
  {
   "cell_type": "code",
   "execution_count": 26,
   "id": "35aff349",
   "metadata": {},
   "outputs": [
    {
     "name": "stdout",
     "output_type": "stream",
     "text": [
      "Here is a detailed outline for a blog on the topic \"Jharkhand Tribe Culture and Identity in Danger\":\n",
      "\n",
      "**Title:** Jharkhand Tribe Culture and Identity in Danger: A Threatening Reality\n",
      "\n",
      "**I. Introduction**\n",
      "\n",
      "* Brief overview of Jharkhand state and its rich tribal heritage\n",
      "* Importance of preserving tribal culture and identity\n",
      "* Thesis statement: Jharkhand's tribal culture and identity are under threat due to various factors, and it is crucial to address this issue to preserve the state's unique cultural heritage.\n",
      "\n",
      "**II. The Tribal Population of Jharkhand**\n",
      "\n",
      "* Demographic statistics of Jharkhand's tribal population\n",
      "* Diversity of tribes in Jharkhand (e.g., Santhal, Munda, Oraon, Kol)\n",
      "* Historical significance of tribes in Jharkhand's social and cultural landscape\n",
      "\n",
      "**III. Threats to Tribal Culture and Identity**\n",
      "\n",
      "* Urbanization and modernization: impact on traditional ways of life\n",
      "* Industrialization and mining: displacement of tribes and destruction of their habitats\n",
      "* Education and assimilation: impact on tribal language and customs\n",
      "* Government policies: lack of representation and empowerment of tribal communities\n",
      "* External influences: impact of globalization and consumerism on tribal culture\n",
      "\n",
      "**IV. The Impact of External Influences**\n",
      "\n",
      "* Examples of external influences affecting tribal culture (e.g., Bollywood, urban pop culture)\n",
      "* How external influences are eroding traditional practices and customs\n",
      "* The role of social media in spreading external influences\n",
      "\n",
      "**V. The Role of Government and Institutions**\n",
      "\n",
      "* Lack of representation and empowerment of tribal communities in government and institutions\n",
      "* Need for affirmative action and policies to protect tribal culture and identity\n",
      "* Examples of successful government initiatives and institutions working to preserve tribal culture\n",
      "\n",
      "**VI. Community Efforts to Preserve Tribal Culture**\n",
      "\n",
      "* Examples of community-led initiatives to preserve tribal culture (e.g., language classes, cultural festivals, traditional skill preservation)\n",
      "* The importance of community engagement and participation in preserving tribal culture\n",
      "* Success stories of community efforts to preserve tribal culture\n",
      "\n",
      "**VII. Conclusion**\n",
      "\n",
      "* Summary of the threats to Jharkhand's tribal culture and identity\n",
      "* Urgency of addressing these threats to preserve the state's unique cultural heritage\n",
      "* Call to action: role of individuals, government, and institutions in protecting and preserving tribal culture and identity.\n",
      "\n",
      "**Additional ideas to consider:**\n",
      "\n",
      "* Include interviews or quotes from tribal community members, cultural experts, or government officials to add depth and perspective to the article.\n",
      "* Use vivid imagery and descriptive language to bring the culture and traditions of Jharkhand's tribes to life.\n",
      "* Highlight successful initiatives or programs that are working to preserve tribal culture and identity, and discuss ways in which these can be scaled up or replicated.\n",
      "* Consider including images, videos, or audio recordings of traditional tribal practices, music, or dance to illustrate the post.\n",
      "\n",
      "I hope this outline helps you write a compelling and informative blog on the topic!\n"
     ]
    }
   ],
   "source": [
    "print(final_state['outline'])"
   ]
  },
  {
   "cell_type": "code",
   "execution_count": 27,
   "id": "d42f7609",
   "metadata": {},
   "outputs": [
    {
     "name": "stdout",
     "output_type": "stream",
     "text": [
      "**Jharkhand Tribe Culture and Identity in Danger: A Threatening Reality**\n",
      "\n",
      "Jharkhand, a state nestled in the eastern part of India, is home to a rich and diverse tribal heritage. For centuries, the tribes of Jharkhand have preserved their unique cultural identity, shaped by their traditional practices, customs, and languages. However, this cultural treasure is under threat due to various factors, including urbanization, industrialization, education, government policies, and external influences. It is crucial to address these threats to preserve the state's unique cultural heritage and the identity of its tribal communities.\n",
      "\n",
      "**The Tribal Population of Jharkhand**\n",
      "\n",
      "Jharkhand is home to over 30 million people, with a significant proportion being tribal communities. The state has a diverse tribal population, comprising 32% of the total population. The Santhal, Munda, Oraon, and Kol tribes are some of the most prominent communities in Jharkhand. These tribes have a distinct culture, language, and way of life that is deeply rooted in their traditional practices and customs.\n",
      "\n",
      "**Threats to Tribal Culture and Identity**\n",
      "\n",
      "Urbanization and modernization have significantly impacted the traditional ways of life of Jharkhand's tribes. Many young people are leaving their rural homes to seek better opportunities in cities, leading to a decline in traditional practices and customs. Industrialization and mining have led to the displacement of tribes and the destruction of their habitats, forcing them to adapt to new environments and lifestyles.\n",
      "\n",
      "Education and assimilation have also played a significant role in eroding tribal culture and identity. Tribal children are often forced to abandon their traditional languages and customs to adapt to mainstream education and culture. Government policies have also failed to recognize and empower tribal communities, leading to a lack of representation and participation in decision-making processes.\n",
      "\n",
      "External influences, such as globalization and consumerism, have also had a profound impact on tribal culture. The proliferation of social media and Bollywood have spread external influences, eroding traditional practices and customs. The loss of traditional skills and knowledge is also a significant concern, as young generations are not being trained in traditional practices such as farming, hunting, and craft-making.\n",
      "\n",
      "**The Impact of External Influences**\n",
      "\n",
      "External influences have had a profound impact on tribal culture, leading to the erosion of traditional practices and customs. For example, the spread of Bollywood music and dance has led to the decline of traditional tribal music and dance forms. The proliferation of social media has also created a sense of disconnection among tribal communities, as young people are more likely to engage with external influences than with their own cultural heritage.\n",
      "\n",
      "**The Role of Government and Institutions**\n",
      "\n",
      "The government has a significant role to play in protecting and preserving tribal culture and identity. However, government policies and institutions have often failed to recognize and empower tribal communities. There is a need for affirmative action and policies to protect tribal culture and identity, including the establishment of institutions and programs that promote tribal culture and language.\n",
      "\n",
      "**Community Efforts to Preserve Tribal Culture**\n",
      "\n",
      "Community-led initiatives have played a crucial role in preserving tribal culture and identity. For example, language classes and cultural festivals have been organized to promote tribal languages and customs. Traditional skill preservation programs have also been established to ensure that young generations are trained in traditional practices such as farming, hunting, and craft-making.\n",
      "\n",
      "**Conclusion**\n",
      "\n",
      "Jharkhand's tribal culture and identity are under threat due to various factors, including urbanization, industrialization, education, government policies, and external influences. It is crucial to address these threats to preserve the state's unique cultural heritage and the identity of its tribal communities. Individuals, government, and institutions must work together to protect and preserve tribal culture and identity. By promoting tribal culture and language, preserving traditional skills and knowledge, and empowering tribal communities, we can ensure the survival of Jharkhand's rich tribal heritage.\n",
      "\n",
      "**Additional Ideas to Consider:**\n",
      "\n",
      "* Include interviews or quotes from tribal community members, cultural experts, or government officials to add depth and perspective to the article.\n",
      "* Use vivid imagery and descriptive language to bring the culture and traditions of Jharkhand's tribes to life.\n",
      "* Highlight successful initiatives or programs that are working to preserve tribal culture and identity, and discuss ways in which these can be scaled up or replicated.\n",
      "* Consider including images, videos, or audio recordings of traditional tribal practices, music, or dance to illustrate the post.\n",
      "\n",
      "By working together, we can preserve the rich cultural heritage of Jharkhand's tribes and ensure their identity and traditions are protected for generations to come.\n"
     ]
    }
   ],
   "source": [
    "print(final_state['content'])"
   ]
  },
  {
   "cell_type": "code",
   "execution_count": null,
   "id": "9013a982",
   "metadata": {},
   "outputs": [],
   "source": []
  }
 ],
 "metadata": {
  "kernelspec": {
   "display_name": "Python 3",
   "language": "python",
   "name": "python3"
  },
  "language_info": {
   "codemirror_mode": {
    "name": "ipython",
    "version": 3
   },
   "file_extension": ".py",
   "mimetype": "text/x-python",
   "name": "python",
   "nbconvert_exporter": "python",
   "pygments_lexer": "ipython3",
   "version": "3.13.5"
  }
 },
 "nbformat": 4,
 "nbformat_minor": 5
}
